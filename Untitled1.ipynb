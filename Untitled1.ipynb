{
 "cells": [
  {
   "cell_type": "code",
   "execution_count": 1,
   "id": "38bd2a5c",
   "metadata": {},
   "outputs": [],
   "source": [
    "import os, sys\n",
    "os.environ.setdefault('DJANGO_SETTINGS_MODULE', 'Library_project.settings')\n",
    "os.environ[\"DJANGO_ALLOW_ASYNC_UNSAFE\"] = \"true\"\n",
    "import django\n",
    "django.setup()"
   ]
  },
  {
   "cell_type": "code",
   "execution_count": null,
   "id": "de7e8f86",
   "metadata": {},
   "outputs": [],
   "source": []
  },
  {
   "cell_type": "code",
   "execution_count": 2,
   "id": "278aac39",
   "metadata": {},
   "outputs": [],
   "source": [
    "from library_app.models import Student, Books,Borrow_book\n",
    "from library_app.serializers import StudentSerializer, BooksSerializer, BorrowSerializer\n",
    "import datetime"
   ]
  },
  {
   "cell_type": "code",
   "execution_count": null,
   "id": "165932f9",
   "metadata": {},
   "outputs": [],
   "source": []
  },
  {
   "cell_type": "markdown",
   "id": "6419fbab",
   "metadata": {},
   "source": [
    "POST API Book"
   ]
  },
  {
   "cell_type": "code",
   "execution_count": null,
   "id": "e1462655",
   "metadata": {},
   "outputs": [],
   "source": [
    "book_data = {\"book_name\":\"English\"}\n",
    "book_name = book_data[\"book_name\"]\n",
    "\n",
    "B1 = Books(book_name = book_name)\n",
    "B1.save()"
   ]
  },
  {
   "cell_type": "code",
   "execution_count": null,
   "id": "ae658fac",
   "metadata": {},
   "outputs": [],
   "source": []
  },
  {
   "cell_type": "code",
   "execution_count": null,
   "id": "c77aaaf7",
   "metadata": {},
   "outputs": [],
   "source": []
  },
  {
   "cell_type": "markdown",
   "id": "060e451d",
   "metadata": {},
   "source": [
    "GET API"
   ]
  },
  {
   "cell_type": "code",
   "execution_count": null,
   "id": "20348118",
   "metadata": {},
   "outputs": [],
   "source": [
    "B2 = Books.objects.all()\n",
    "serializer = BooksSerializer(B2, many = True)\n",
    "print(serializer.data)"
   ]
  },
  {
   "cell_type": "code",
   "execution_count": null,
   "id": "481d63fd",
   "metadata": {},
   "outputs": [],
   "source": []
  },
  {
   "cell_type": "markdown",
   "id": "1767f60d",
   "metadata": {},
   "source": [
    "POST API student "
   ]
  },
  {
   "cell_type": "code",
   "execution_count": null,
   "id": "c2084ee6",
   "metadata": {},
   "outputs": [],
   "source": [
    "student_data = {\"name\":\"vikash\",\"contact\":123467}\n",
    "\n",
    "name = student_data[\"name\"]\n",
    "contact = student_data[\"contact\"]\n",
    "\n",
    "S1 = Student(name = name, contact = contact)\n",
    "S1.save()"
   ]
  },
  {
   "cell_type": "code",
   "execution_count": null,
   "id": "01a4c52a",
   "metadata": {},
   "outputs": [],
   "source": [
    "# GET Student\n",
    "\n",
    "stu = Student.objects.all()\n",
    "serializer = StudentSerializer(stu, many = True)\n",
    "print(serializer.data)"
   ]
  },
  {
   "cell_type": "code",
   "execution_count": null,
   "id": "c9af8cec",
   "metadata": {},
   "outputs": [],
   "source": []
  },
  {
   "cell_type": "markdown",
   "id": "eb0e42e8",
   "metadata": {},
   "source": [
    "POST Borrow_book API"
   ]
  },
  {
   "cell_type": "code",
   "execution_count": null,
   "id": "56fd69df",
   "metadata": {},
   "outputs": [],
   "source": [
    "borrow_data = {\"student_id\":1,\"book_id\":2}\n",
    "\n",
    "student_id = borrow_data[\"student_id\"]\n",
    "book_id = borrow_data[\"book_id\"]\n",
    "\n",
    "S1 = Student.objects.get(pk = student_id)\n",
    "B2 = Books.objects.get(pk = book_id)\n",
    "Bo1 = Borrow_book(student = S1,book = B1)\n",
    "Bo1.save()"
   ]
  },
  {
   "cell_type": "code",
   "execution_count": null,
   "id": "f4fae849",
   "metadata": {},
   "outputs": [],
   "source": []
  },
  {
   "cell_type": "markdown",
   "id": "89a70caf",
   "metadata": {},
   "source": [
    "Borrow GET API"
   ]
  },
  {
   "cell_type": "code",
   "execution_count": 13,
   "id": "37fa9c9d",
   "metadata": {},
   "outputs": [
    {
     "name": "stdout",
     "output_type": "stream",
     "text": [
      "[OrderedDict([('borrow_time', '2022-12-21T13:34:01.161846'), ('return_time', '2022-12-21T13:31:45.234731'), ('book', 2), ('student', 1)])]\n"
     ]
    }
   ],
   "source": [
    "Boro = Borrow_book.objects.filter(book = 2)\n",
    "serializer = BorrowSerializer(Boro, many = True)\n",
    "print(serializer.data)"
   ]
  },
  {
   "cell_type": "code",
   "execution_count": null,
   "id": "8c58dcac",
   "metadata": {},
   "outputs": [],
   "source": []
  },
  {
   "cell_type": "markdown",
   "id": "51d993e8",
   "metadata": {},
   "source": [
    "Update Borrow API"
   ]
  },
  {
   "cell_type": "code",
   "execution_count": 7,
   "id": "4f9ee31b",
   "metadata": {},
   "outputs": [
    {
     "name": "stdout",
     "output_type": "stream",
     "text": [
      "2022-12-21 13:31:45.234731\n"
     ]
    }
   ],
   "source": [
    "Boro_up_data = {\"id\":2}\n",
    "\n",
    "book_id = Boro_up_data[\"id\"]\n",
    "return_time = datetime.datetime.now()\n",
    "print(return_time)\n",
    "\n",
    "borrow = Borrow_book.objects.get(book = book_id)\n",
    "borrow.return_time = return_time\n",
    "borrow.save()\n",
    "\n",
    "\n",
    "\n"
   ]
  },
  {
   "cell_type": "code",
   "execution_count": null,
   "id": "cc6e2d46",
   "metadata": {},
   "outputs": [],
   "source": []
  },
  {
   "cell_type": "markdown",
   "id": "2631a418",
   "metadata": {},
   "source": [
    "renew Book Update API "
   ]
  },
  {
   "cell_type": "code",
   "execution_count": 8,
   "id": "65681934",
   "metadata": {},
   "outputs": [
    {
     "name": "stdout",
     "output_type": "stream",
     "text": [
      "2022-12-21 13:34:01.161846\n"
     ]
    }
   ],
   "source": [
    "Boro_up_data2 = {\"id\":2}\n",
    "\n",
    "book_id = Boro_up_data2[\"id\"]\n",
    "borrow_time = datetime.datetime.now()\n",
    "print(return_time)\n",
    "\n",
    "borrow = Borrow_book.objects.get(book = book_id)\n",
    "borrow.borrow_time = borrow_time\n",
    "borrow.save()"
   ]
  },
  {
   "cell_type": "code",
   "execution_count": null,
   "id": "5515496c",
   "metadata": {},
   "outputs": [],
   "source": []
  },
  {
   "cell_type": "code",
   "execution_count": null,
   "id": "54e17699",
   "metadata": {},
   "outputs": [],
   "source": []
  },
  {
   "cell_type": "code",
   "execution_count": null,
   "id": "ed20381b",
   "metadata": {},
   "outputs": [],
   "source": []
  }
 ],
 "metadata": {
  "kernelspec": {
   "display_name": "Python 3 (ipykernel)",
   "language": "python",
   "name": "python3"
  },
  "language_info": {
   "codemirror_mode": {
    "name": "ipython",
    "version": 3
   },
   "file_extension": ".py",
   "mimetype": "text/x-python",
   "name": "python",
   "nbconvert_exporter": "python",
   "pygments_lexer": "ipython3",
   "version": "3.10.7"
  }
 },
 "nbformat": 4,
 "nbformat_minor": 5
}
